{
 "cells": [
  {
   "cell_type": "markdown",
   "id": "ce728a09",
   "metadata": {},
   "source": [
    "import pandas as pd, numpy as np, matplotlib.pyplot as plt, seaborn as sns\n",
    "%matplotlib inline\n",
    "     "
   ]
  },
  {
   "cell_type": "code",
   "execution_count": 16,
   "id": "a48dc922",
   "metadata": {},
   "outputs": [],
   "source": [
    "import pandas as pd, numpy as np, matplotlib.pyplot as plt, seaborn as sns\n",
    "%matplotlib inline\n",
    "     "
   ]
  },
  {
   "cell_type": "code",
   "execution_count": 17,
   "id": "a0850c5d",
   "metadata": {},
   "outputs": [
    {
     "data": {
      "text/html": [
       "<div>\n",
       "<style scoped>\n",
       "    .dataframe tbody tr th:only-of-type {\n",
       "        vertical-align: middle;\n",
       "    }\n",
       "\n",
       "    .dataframe tbody tr th {\n",
       "        vertical-align: top;\n",
       "    }\n",
       "\n",
       "    .dataframe thead th {\n",
       "        text-align: right;\n",
       "    }\n",
       "</style>\n",
       "<table border=\"1\" class=\"dataframe\">\n",
       "  <thead>\n",
       "    <tr style=\"text-align: right;\">\n",
       "      <th></th>\n",
       "      <th>Date</th>\n",
       "      <th>Time</th>\n",
       "      <th>Jikky</th>\n",
       "      <th>Kayis</th>\n",
       "      <th>Sinny</th>\n",
       "      <th>Criji</th>\n",
       "      <th>Johnan</th>\n",
       "      <th>Mode of class</th>\n",
       "    </tr>\n",
       "  </thead>\n",
       "  <tbody>\n",
       "    <tr>\n",
       "      <th>0</th>\n",
       "      <td>2022-04-11</td>\n",
       "      <td>9:30 am- 10:30 am</td>\n",
       "      <td>1.0</td>\n",
       "      <td>1.0</td>\n",
       "      <td>NaN</td>\n",
       "      <td>NaN</td>\n",
       "      <td>NaN</td>\n",
       "      <td>Online</td>\n",
       "    </tr>\n",
       "    <tr>\n",
       "      <th>1</th>\n",
       "      <td>2022-04-11</td>\n",
       "      <td>10:30 am- 11:30 am</td>\n",
       "      <td>1.0</td>\n",
       "      <td>1.0</td>\n",
       "      <td>NaN</td>\n",
       "      <td>NaN</td>\n",
       "      <td>NaN</td>\n",
       "      <td>Online</td>\n",
       "    </tr>\n",
       "    <tr>\n",
       "      <th>2</th>\n",
       "      <td>2022-04-12</td>\n",
       "      <td>9:30 am- 10:30 am</td>\n",
       "      <td>1.0</td>\n",
       "      <td>1.0</td>\n",
       "      <td>NaN</td>\n",
       "      <td>NaN</td>\n",
       "      <td>NaN</td>\n",
       "      <td>Online</td>\n",
       "    </tr>\n",
       "  </tbody>\n",
       "</table>\n",
       "</div>"
      ],
      "text/plain": [
       "        Date                Time  Jikky  Kayis  Sinny  Criji  Johnan  \\\n",
       "0 2022-04-11   9:30 am- 10:30 am    1.0    1.0    NaN    NaN     NaN   \n",
       "1 2022-04-11  10:30 am- 11:30 am    1.0    1.0    NaN    NaN     NaN   \n",
       "2 2022-04-12   9:30 am- 10:30 am    1.0    1.0    NaN    NaN     NaN   \n",
       "\n",
       "  Mode of class  \n",
       "0        Online  \n",
       "1        Online  \n",
       "2        Online  "
      ]
     },
     "execution_count": 17,
     "metadata": {},
     "output_type": "execute_result"
    }
   ],
   "source": [
    "wh=pd.read_excel('Working Hours.xlsx')\n",
    "wh.head(3)"
   ]
  },
  {
   "cell_type": "code",
   "execution_count": 18,
   "id": "9b064bed",
   "metadata": {},
   "outputs": [
    {
     "data": {
      "text/plain": [
       "Date              0\n",
       "Time              0\n",
       "Jikky            51\n",
       "Kayis            72\n",
       "Sinny            68\n",
       "Criji            74\n",
       "Johnan           82\n",
       "Mode of class     0\n",
       "dtype: int64"
      ]
     },
     "execution_count": 18,
     "metadata": {},
     "output_type": "execute_result"
    }
   ],
   "source": [
    "wh.isna().sum()"
   ]
  },
  {
   "cell_type": "markdown",
   "id": "006256c1",
   "metadata": {},
   "source": [
    "Data Cleaning"
   ]
  },
  {
   "cell_type": "markdown",
   "id": "aea1d32c",
   "metadata": {},
   "source": [
    "Nan values are replaced by zeros"
   ]
  },
  {
   "cell_type": "code",
   "execution_count": 19,
   "id": "a55be251",
   "metadata": {},
   "outputs": [
    {
     "data": {
      "text/html": [
       "<div>\n",
       "<style scoped>\n",
       "    .dataframe tbody tr th:only-of-type {\n",
       "        vertical-align: middle;\n",
       "    }\n",
       "\n",
       "    .dataframe tbody tr th {\n",
       "        vertical-align: top;\n",
       "    }\n",
       "\n",
       "    .dataframe thead th {\n",
       "        text-align: right;\n",
       "    }\n",
       "</style>\n",
       "<table border=\"1\" class=\"dataframe\">\n",
       "  <thead>\n",
       "    <tr style=\"text-align: right;\">\n",
       "      <th></th>\n",
       "      <th>Date</th>\n",
       "      <th>Time</th>\n",
       "      <th>Jikky</th>\n",
       "      <th>Kayis</th>\n",
       "      <th>Sinny</th>\n",
       "      <th>Criji</th>\n",
       "      <th>Johnan</th>\n",
       "      <th>Mode of class</th>\n",
       "    </tr>\n",
       "  </thead>\n",
       "  <tbody>\n",
       "    <tr>\n",
       "      <th>0</th>\n",
       "      <td>2022-04-11</td>\n",
       "      <td>9:30 am- 10:30 am</td>\n",
       "      <td>1.0</td>\n",
       "      <td>1.0</td>\n",
       "      <td>0.0</td>\n",
       "      <td>0.0</td>\n",
       "      <td>0.0</td>\n",
       "      <td>Online</td>\n",
       "    </tr>\n",
       "    <tr>\n",
       "      <th>1</th>\n",
       "      <td>2022-04-11</td>\n",
       "      <td>10:30 am- 11:30 am</td>\n",
       "      <td>1.0</td>\n",
       "      <td>1.0</td>\n",
       "      <td>0.0</td>\n",
       "      <td>0.0</td>\n",
       "      <td>0.0</td>\n",
       "      <td>Online</td>\n",
       "    </tr>\n",
       "  </tbody>\n",
       "</table>\n",
       "</div>"
      ],
      "text/plain": [
       "        Date                Time  Jikky  Kayis  Sinny  Criji  Johnan  \\\n",
       "0 2022-04-11   9:30 am- 10:30 am    1.0    1.0    0.0    0.0     0.0   \n",
       "1 2022-04-11  10:30 am- 11:30 am    1.0    1.0    0.0    0.0     0.0   \n",
       "\n",
       "  Mode of class  \n",
       "0        Online  \n",
       "1        Online  "
      ]
     },
     "execution_count": 19,
     "metadata": {},
     "output_type": "execute_result"
    }
   ],
   "source": [
    "wh=wh.fillna(0)\n",
    "wh.head(2)"
   ]
  },
  {
   "cell_type": "code",
   "execution_count": 20,
   "id": "659ffee7",
   "metadata": {},
   "outputs": [
    {
     "data": {
      "text/plain": [
       "(91, 8)"
      ]
     },
     "execution_count": 20,
     "metadata": {},
     "output_type": "execute_result"
    }
   ],
   "source": [
    "wh.shape"
   ]
  },
  {
   "cell_type": "code",
   "execution_count": 21,
   "id": "9992bd61",
   "metadata": {},
   "outputs": [
    {
     "data": {
      "text/plain": [
       "Index(['Date', 'Time', 'Jikky', 'Kayis', 'Sinny', 'Criji', 'Johnan',\n",
       "       'Mode of class'],\n",
       "      dtype='object')"
      ]
     },
     "execution_count": 21,
     "metadata": {},
     "output_type": "execute_result"
    }
   ],
   "source": [
    "wh.columns"
   ]
  },
  {
   "cell_type": "code",
   "execution_count": 22,
   "id": "150d8942",
   "metadata": {},
   "outputs": [
    {
     "name": "stdout",
     "output_type": "stream",
     "text": [
      "<class 'pandas.core.frame.DataFrame'>\n",
      "RangeIndex: 91 entries, 0 to 90\n",
      "Data columns (total 8 columns):\n",
      " #   Column         Non-Null Count  Dtype         \n",
      "---  ------         --------------  -----         \n",
      " 0   Date           91 non-null     datetime64[ns]\n",
      " 1   Time           91 non-null     object        \n",
      " 2   Jikky          91 non-null     float64       \n",
      " 3   Kayis          91 non-null     float64       \n",
      " 4   Sinny          91 non-null     float64       \n",
      " 5   Criji          91 non-null     float64       \n",
      " 6   Johnan         91 non-null     float64       \n",
      " 7   Mode of class  91 non-null     object        \n",
      "dtypes: datetime64[ns](1), float64(5), object(2)\n",
      "memory usage: 5.8+ KB\n"
     ]
    }
   ],
   "source": [
    "wh.info()"
   ]
  },
  {
   "cell_type": "markdown",
   "id": "d3b0247b",
   "metadata": {},
   "source": [
    "Splitting date"
   ]
  },
  {
   "cell_type": "markdown",
   "id": "f7d5b78c",
   "metadata": {},
   "source": [
    "date variable is needed to be splitted for further analysis\n",
    "\n",
    "here date is splitted into, month, year and day"
   ]
  },
  {
   "cell_type": "code",
   "execution_count": 23,
   "id": "81e61163",
   "metadata": {},
   "outputs": [
    {
     "data": {
      "text/html": [
       "<div>\n",
       "<style scoped>\n",
       "    .dataframe tbody tr th:only-of-type {\n",
       "        vertical-align: middle;\n",
       "    }\n",
       "\n",
       "    .dataframe tbody tr th {\n",
       "        vertical-align: top;\n",
       "    }\n",
       "\n",
       "    .dataframe thead th {\n",
       "        text-align: right;\n",
       "    }\n",
       "</style>\n",
       "<table border=\"1\" class=\"dataframe\">\n",
       "  <thead>\n",
       "    <tr style=\"text-align: right;\">\n",
       "      <th></th>\n",
       "      <th>Date</th>\n",
       "      <th>Time</th>\n",
       "      <th>Jikky</th>\n",
       "      <th>Kayis</th>\n",
       "      <th>Sinny</th>\n",
       "      <th>Criji</th>\n",
       "      <th>Johnan</th>\n",
       "      <th>Mode of class</th>\n",
       "      <th>Month</th>\n",
       "      <th>year</th>\n",
       "      <th>Day</th>\n",
       "    </tr>\n",
       "  </thead>\n",
       "  <tbody>\n",
       "    <tr>\n",
       "      <th>0</th>\n",
       "      <td>2022-04-11</td>\n",
       "      <td>9:30 am- 10:30 am</td>\n",
       "      <td>1.0</td>\n",
       "      <td>1.0</td>\n",
       "      <td>0.0</td>\n",
       "      <td>0.0</td>\n",
       "      <td>0.0</td>\n",
       "      <td>Online</td>\n",
       "      <td>4</td>\n",
       "      <td>2022</td>\n",
       "      <td>11</td>\n",
       "    </tr>\n",
       "    <tr>\n",
       "      <th>1</th>\n",
       "      <td>2022-04-11</td>\n",
       "      <td>10:30 am- 11:30 am</td>\n",
       "      <td>1.0</td>\n",
       "      <td>1.0</td>\n",
       "      <td>0.0</td>\n",
       "      <td>0.0</td>\n",
       "      <td>0.0</td>\n",
       "      <td>Online</td>\n",
       "      <td>4</td>\n",
       "      <td>2022</td>\n",
       "      <td>11</td>\n",
       "    </tr>\n",
       "  </tbody>\n",
       "</table>\n",
       "</div>"
      ],
      "text/plain": [
       "        Date                Time  Jikky  Kayis  Sinny  Criji  Johnan  \\\n",
       "0 2022-04-11   9:30 am- 10:30 am    1.0    1.0    0.0    0.0     0.0   \n",
       "1 2022-04-11  10:30 am- 11:30 am    1.0    1.0    0.0    0.0     0.0   \n",
       "\n",
       "  Mode of class  Month  year  Day  \n",
       "0        Online      4  2022   11  \n",
       "1        Online      4  2022   11  "
      ]
     },
     "execution_count": 23,
     "metadata": {},
     "output_type": "execute_result"
    }
   ],
   "source": [
    "wh['Month'] = pd.to_datetime(wh['Date']).dt.month\n",
    "wh['year'] = pd.to_datetime(wh['Date']).dt.year\n",
    "wh['Day'] = pd.to_datetime(wh['Date']).dt.day\n",
    "wh.head(2)"
   ]
  },
  {
   "cell_type": "markdown",
   "id": "209030aa",
   "metadata": {},
   "source": [
    "Data Analysis"
   ]
  },
  {
   "cell_type": "markdown",
   "id": "6341779b",
   "metadata": {},
   "source": [
    "Data is analysed with these requirements\n",
    "\n",
    "find who had taken more class.\n",
    "\n",
    "Find by which mode, most of the time class has taken in month June\n",
    "\n",
    "Find the sum of Hours of each mentors\n",
    "\n",
    "find by which time hour most the class has taken\n",
    "\n",
    "find how many physical classes has taken by each mentors through out each month\n",
    "\n",
    "if the the payment is 100 for one hour , then how much salary\n",
    "\n",
    "if the the payment for one hour is 150 means how much salary did they got in each month\n",
    "\n",
    "create a dataframe using the data you got with salary of each month of each mentors\n",
    "\n",
    "who earned more salary if the payment for one hour is 100.\n",
    "\n",
    "who earned more salary if the payment for one hour is 150, in the month of june.\n",
    "\n",
    "who is working more time\n",
    "\n",
    "who had worked more hours in the month of May?\n",
    "\n",
    "In which month more physical classes had taken place?"
   ]
  },
  {
   "cell_type": "raw",
   "id": "934adfe7",
   "metadata": {},
   "source": [
    "# find who had taken more class"
   ]
  },
  {
   "cell_type": "code",
   "execution_count": 24,
   "id": "8d4dfef8",
   "metadata": {},
   "outputs": [
    {
     "data": {
      "text/plain": [
       "Jikky     71.2\n",
       "Kayis     29.6\n",
       "Sinny     54.5\n",
       "Criji     43.0\n",
       "Johnan    23.0\n",
       "dtype: float64"
      ]
     },
     "execution_count": 24,
     "metadata": {},
     "output_type": "execute_result"
    }
   ],
   "source": [
    "wh[['Jikky','Kayis','Sinny','Criji','Johnan']].sum()"
   ]
  },
  {
   "cell_type": "markdown",
   "id": "f86b3e08",
   "metadata": {},
   "source": [
    "Jikky had taken more class"
   ]
  },
  {
   "cell_type": "raw",
   "id": "2a8c4760",
   "metadata": {},
   "source": [
    "#Find the sum of Hours of each mentors"
   ]
  },
  {
   "cell_type": "code",
   "execution_count": 25,
   "id": "34d0e1c2",
   "metadata": {},
   "outputs": [
    {
     "name": "stderr",
     "output_type": "stream",
     "text": [
      "C:\\Users\\91984\\AppData\\Local\\Temp\\ipykernel_14672\\459571708.py:1: FutureWarning: The default value of numeric_only in DataFrameGroupBy.sum is deprecated. In a future version, numeric_only will default to False. Either specify numeric_only or select only columns which should be valid for the function.\n",
      "  wh.groupby('Mode of class').sum()\n"
     ]
    },
    {
     "data": {
      "text/html": [
       "<div>\n",
       "<style scoped>\n",
       "    .dataframe tbody tr th:only-of-type {\n",
       "        vertical-align: middle;\n",
       "    }\n",
       "\n",
       "    .dataframe tbody tr th {\n",
       "        vertical-align: top;\n",
       "    }\n",
       "\n",
       "    .dataframe thead th {\n",
       "        text-align: right;\n",
       "    }\n",
       "</style>\n",
       "<table border=\"1\" class=\"dataframe\">\n",
       "  <thead>\n",
       "    <tr style=\"text-align: right;\">\n",
       "      <th></th>\n",
       "      <th>Jikky</th>\n",
       "      <th>Kayis</th>\n",
       "      <th>Sinny</th>\n",
       "      <th>Criji</th>\n",
       "      <th>Johnan</th>\n",
       "      <th>Month</th>\n",
       "      <th>year</th>\n",
       "      <th>Day</th>\n",
       "    </tr>\n",
       "    <tr>\n",
       "      <th>Mode of class</th>\n",
       "      <th></th>\n",
       "      <th></th>\n",
       "      <th></th>\n",
       "      <th></th>\n",
       "      <th></th>\n",
       "      <th></th>\n",
       "      <th></th>\n",
       "      <th></th>\n",
       "    </tr>\n",
       "  </thead>\n",
       "  <tbody>\n",
       "    <tr>\n",
       "      <th>Online</th>\n",
       "      <td>57.2</td>\n",
       "      <td>22.6</td>\n",
       "      <td>30.5</td>\n",
       "      <td>23.0</td>\n",
       "      <td>13.5</td>\n",
       "      <td>406</td>\n",
       "      <td>161760</td>\n",
       "      <td>1440</td>\n",
       "    </tr>\n",
       "    <tr>\n",
       "      <th>Physical</th>\n",
       "      <td>14.0</td>\n",
       "      <td>7.0</td>\n",
       "      <td>24.0</td>\n",
       "      <td>20.0</td>\n",
       "      <td>9.5</td>\n",
       "      <td>61</td>\n",
       "      <td>22242</td>\n",
       "      <td>195</td>\n",
       "    </tr>\n",
       "  </tbody>\n",
       "</table>\n",
       "</div>"
      ],
      "text/plain": [
       "               Jikky  Kayis  Sinny  Criji  Johnan  Month    year   Day\n",
       "Mode of class                                                         \n",
       "Online          57.2   22.6   30.5   23.0    13.5    406  161760  1440\n",
       "Physical        14.0    7.0   24.0   20.0     9.5     61   22242   195"
      ]
     },
     "execution_count": 25,
     "metadata": {},
     "output_type": "execute_result"
    }
   ],
   "source": [
    "wh.groupby('Mode of class').sum()"
   ]
  },
  {
   "cell_type": "code",
   "execution_count": 26,
   "id": "6a01fad9",
   "metadata": {},
   "outputs": [
    {
     "data": {
      "text/plain": [
       "Online      80\n",
       "Physical    11\n",
       "Name: Mode of class, dtype: int64"
      ]
     },
     "execution_count": 26,
     "metadata": {},
     "output_type": "execute_result"
    }
   ],
   "source": [
    "moc=wh['Mode of class'].value_counts()\n",
    "moc"
   ]
  },
  {
   "cell_type": "markdown",
   "id": "5cba335d",
   "metadata": {},
   "source": [
    "The mentors have taken online class than phyical classes."
   ]
  },
  {
   "cell_type": "raw",
   "id": "831b1ab4",
   "metadata": {},
   "source": [
    "#Find how many physical classes had taken by each mentors through out each month"
   ]
  },
  {
   "cell_type": "code",
   "execution_count": 27,
   "id": "1ea1682d",
   "metadata": {},
   "outputs": [
    {
     "data": {
      "text/html": [
       "<div>\n",
       "<style scoped>\n",
       "    .dataframe tbody tr th:only-of-type {\n",
       "        vertical-align: middle;\n",
       "    }\n",
       "\n",
       "    .dataframe tbody tr th {\n",
       "        vertical-align: top;\n",
       "    }\n",
       "\n",
       "    .dataframe thead th {\n",
       "        text-align: right;\n",
       "    }\n",
       "</style>\n",
       "<table border=\"1\" class=\"dataframe\">\n",
       "  <thead>\n",
       "    <tr style=\"text-align: right;\">\n",
       "      <th></th>\n",
       "      <th>Jikky</th>\n",
       "      <th>Kayis</th>\n",
       "      <th>Sinny</th>\n",
       "      <th>Criji</th>\n",
       "      <th>Johnan</th>\n",
       "    </tr>\n",
       "    <tr>\n",
       "      <th>Mode of class</th>\n",
       "      <th></th>\n",
       "      <th></th>\n",
       "      <th></th>\n",
       "      <th></th>\n",
       "      <th></th>\n",
       "    </tr>\n",
       "  </thead>\n",
       "  <tbody>\n",
       "    <tr>\n",
       "      <th>Online</th>\n",
       "      <td>57.2</td>\n",
       "      <td>22.6</td>\n",
       "      <td>30.5</td>\n",
       "      <td>23.0</td>\n",
       "      <td>13.5</td>\n",
       "    </tr>\n",
       "    <tr>\n",
       "      <th>Physical</th>\n",
       "      <td>14.0</td>\n",
       "      <td>7.0</td>\n",
       "      <td>24.0</td>\n",
       "      <td>20.0</td>\n",
       "      <td>9.5</td>\n",
       "    </tr>\n",
       "  </tbody>\n",
       "</table>\n",
       "</div>"
      ],
      "text/plain": [
       "               Jikky  Kayis  Sinny  Criji  Johnan\n",
       "Mode of class                                    \n",
       "Online          57.2   22.6   30.5   23.0    13.5\n",
       "Physical        14.0    7.0   24.0   20.0     9.5"
      ]
     },
     "execution_count": 27,
     "metadata": {},
     "output_type": "execute_result"
    }
   ],
   "source": [
    "wh.groupby('Mode of class')[['Jikky','Kayis','Sinny','Criji','Johnan']].sum()"
   ]
  },
  {
   "cell_type": "markdown",
   "id": "157c2a7b",
   "metadata": {},
   "source": [
    "In these past 3 months most of the online classes had taken by Jikky\n",
    "\n",
    "and Sinny mostly took the physical classes"
   ]
  },
  {
   "cell_type": "code",
   "execution_count": 28,
   "id": "f67573e3",
   "metadata": {},
   "outputs": [
    {
     "data": {
      "text/html": [
       "<div>\n",
       "<style scoped>\n",
       "    .dataframe tbody tr th:only-of-type {\n",
       "        vertical-align: middle;\n",
       "    }\n",
       "\n",
       "    .dataframe tbody tr th {\n",
       "        vertical-align: top;\n",
       "    }\n",
       "\n",
       "    .dataframe thead th {\n",
       "        text-align: right;\n",
       "    }\n",
       "</style>\n",
       "<table border=\"1\" class=\"dataframe\">\n",
       "  <thead>\n",
       "    <tr style=\"text-align: right;\">\n",
       "      <th></th>\n",
       "      <th>Jikky</th>\n",
       "      <th>Kayis</th>\n",
       "      <th>Sinny</th>\n",
       "      <th>Criji</th>\n",
       "      <th>Johnan</th>\n",
       "    </tr>\n",
       "    <tr>\n",
       "      <th>Month</th>\n",
       "      <th></th>\n",
       "      <th></th>\n",
       "      <th></th>\n",
       "      <th></th>\n",
       "      <th></th>\n",
       "    </tr>\n",
       "  </thead>\n",
       "  <tbody>\n",
       "    <tr>\n",
       "      <th>4</th>\n",
       "      <td>11.5</td>\n",
       "      <td>14.5</td>\n",
       "      <td>9.5</td>\n",
       "      <td>1.0</td>\n",
       "      <td>0.0</td>\n",
       "    </tr>\n",
       "    <tr>\n",
       "      <th>5</th>\n",
       "      <td>22.7</td>\n",
       "      <td>15.1</td>\n",
       "      <td>22.0</td>\n",
       "      <td>21.0</td>\n",
       "      <td>23.0</td>\n",
       "    </tr>\n",
       "    <tr>\n",
       "      <th>6</th>\n",
       "      <td>37.0</td>\n",
       "      <td>0.0</td>\n",
       "      <td>23.0</td>\n",
       "      <td>21.0</td>\n",
       "      <td>0.0</td>\n",
       "    </tr>\n",
       "  </tbody>\n",
       "</table>\n",
       "</div>"
      ],
      "text/plain": [
       "       Jikky  Kayis  Sinny  Criji  Johnan\n",
       "Month                                    \n",
       "4       11.5   14.5    9.5    1.0     0.0\n",
       "5       22.7   15.1   22.0   21.0    23.0\n",
       "6       37.0    0.0   23.0   21.0     0.0"
      ]
     },
     "execution_count": 28,
     "metadata": {},
     "output_type": "execute_result"
    }
   ],
   "source": [
    "wh.groupby('Month')[['Jikky','Kayis','Sinny','Criji','Johnan']].sum()"
   ]
  },
  {
   "cell_type": "markdown",
   "id": "fabbeae1",
   "metadata": {},
   "source": [
    "Kayis had taken more class hours in April\n",
    "\n",
    "Johnan had taken more class hours in May\n",
    "\n",
    "Jikky had taken more class hours in June"
   ]
  },
  {
   "cell_type": "code",
   "execution_count": 31,
   "id": "0aef9668",
   "metadata": {},
   "outputs": [
    {
     "data": {
      "text/plain": [
       "Mode of class\n",
       "Online      80\n",
       "Physical    11\n",
       "dtype: int64"
      ]
     },
     "execution_count": 31,
     "metadata": {},
     "output_type": "execute_result"
    }
   ],
   "source": [
    "jm=pd.crosstab(wh['Johnan'],wh['Mode of class']).sum()\n",
    "jm"
   ]
  },
  {
   "cell_type": "code",
   "execution_count": 34,
   "id": "cb302167",
   "metadata": {},
   "outputs": [
    {
     "data": {
      "text/plain": [
       "Mode of class\n",
       "Online      80\n",
       "Physical    11\n",
       "dtype: int64"
      ]
     },
     "execution_count": 34,
     "metadata": {},
     "output_type": "execute_result"
    }
   ],
   "source": [
    "km=pd.crosstab(wh['Kayis'],wh['Mode of class']).sum()\n",
    "km"
   ]
  },
  {
   "cell_type": "code",
   "execution_count": 35,
   "id": "190a19e1",
   "metadata": {},
   "outputs": [
    {
     "data": {
      "text/plain": [
       "Mode of class\n",
       "Online      80\n",
       "Physical    11\n",
       "dtype: int64"
      ]
     },
     "execution_count": 35,
     "metadata": {},
     "output_type": "execute_result"
    }
   ],
   "source": [
    "sm=pd.crosstab(wh['Sinny'],wh['Mode of class']).sum()\n",
    "sm"
   ]
  },
  {
   "cell_type": "code",
   "execution_count": 36,
   "id": "1d02b5eb",
   "metadata": {},
   "outputs": [
    {
     "data": {
      "text/plain": [
       "Month  Mode of class\n",
       "4      Online           25\n",
       "5      Online           24\n",
       "       Physical          5\n",
       "6      Online           31\n",
       "       Physical          6\n",
       "Name: Mode of class, dtype: int64"
      ]
     },
     "execution_count": 36,
     "metadata": {},
     "output_type": "execute_result"
    }
   ],
   "source": [
    "wh.groupby('Month')['Mode of class'].value_counts()"
   ]
  },
  {
   "cell_type": "markdown",
   "id": "99188b98",
   "metadata": {},
   "source": [
    "The most of Online class is taken in June\n",
    "\n",
    "The most of Physical classes is taken in June"
   ]
  },
  {
   "cell_type": "code",
   "execution_count": 37,
   "id": "346890cb",
   "metadata": {},
   "outputs": [
    {
     "data": {
      "text/html": [
       "<div>\n",
       "<style scoped>\n",
       "    .dataframe tbody tr th:only-of-type {\n",
       "        vertical-align: middle;\n",
       "    }\n",
       "\n",
       "    .dataframe tbody tr th {\n",
       "        vertical-align: top;\n",
       "    }\n",
       "\n",
       "    .dataframe thead th {\n",
       "        text-align: right;\n",
       "    }\n",
       "</style>\n",
       "<table border=\"1\" class=\"dataframe\">\n",
       "  <thead>\n",
       "    <tr style=\"text-align: right;\">\n",
       "      <th></th>\n",
       "      <th>Mode of class</th>\n",
       "    </tr>\n",
       "    <tr>\n",
       "      <th>Month</th>\n",
       "      <th></th>\n",
       "    </tr>\n",
       "  </thead>\n",
       "  <tbody>\n",
       "    <tr>\n",
       "      <th>4</th>\n",
       "      <td>25</td>\n",
       "    </tr>\n",
       "    <tr>\n",
       "      <th>5</th>\n",
       "      <td>29</td>\n",
       "    </tr>\n",
       "    <tr>\n",
       "      <th>6</th>\n",
       "      <td>37</td>\n",
       "    </tr>\n",
       "  </tbody>\n",
       "</table>\n",
       "</div>"
      ],
      "text/plain": [
       "       Mode of class\n",
       "Month               \n",
       "4                 25\n",
       "5                 29\n",
       "6                 37"
      ]
     },
     "execution_count": 37,
     "metadata": {},
     "output_type": "execute_result"
    }
   ],
   "source": [
    "wh.groupby('Month')[['Mode of class']].count()"
   ]
  },
  {
   "cell_type": "raw",
   "id": "fe9fd6e3",
   "metadata": {},
   "source": [
    "#Find by which time hour, most of the class had taken in month June"
   ]
  },
  {
   "cell_type": "code",
   "execution_count": 38,
   "id": "97f7f241",
   "metadata": {},
   "outputs": [
    {
     "data": {
      "text/plain": [
       "0    9:30 am - 11:30 am\n",
       "Name: Time, dtype: object"
      ]
     },
     "execution_count": 38,
     "metadata": {},
     "output_type": "execute_result"
    }
   ],
   "source": [
    "wh['Time'].mode()"
   ]
  },
  {
   "cell_type": "markdown",
   "id": "79311b5c",
   "metadata": {},
   "source": [
    "most of the classes had taken in these time hour - 9.30am to 11.30am. `"
   ]
  },
  {
   "cell_type": "code",
   "execution_count": 39,
   "id": "86a328f1",
   "metadata": {},
   "outputs": [
    {
     "data": {
      "text/plain": [
       "Month  Time               \n",
       "4      9:30 am- 10:30 am      12\n",
       "       11:30 am - 12:30 pm     8\n",
       "       9:30 am - 11:30 am      3\n",
       "       10:30 am- 11:30 am      1\n",
       "       11:30 am -  1:00 pm     1\n",
       "5      9:30 am - 11:30 am     17\n",
       "       1:30 pm- 3:30 pm        3\n",
       "       9:30am-12:00am          2\n",
       "       9:30am:4:30pm           2\n",
       "       2: 30PM - 3:50 PM       1\n",
       "       3: 00PM - 3:30 PM       1\n",
       "       9:30 am - 11:40 am      1\n",
       "       9:30am-1 PM             1\n",
       "       9:30am-3:30pm           1\n",
       "6      2:30 Pm-4:30pm         14\n",
       "       11:30 am- 1:30 Pm       9\n",
       "       9:30 am - 11:30 am      9\n",
       "       10:00 Am-3:30 Pm        1\n",
       "       10:00 am - 11:30 am     1\n",
       "       12:15 pm -12:45 pm      1\n",
       "       2:30 pm -4:00 pm        1\n",
       "       9:30am-3:30pm           1\n",
       "Name: Time, dtype: int64"
      ]
     },
     "execution_count": 39,
     "metadata": {},
     "output_type": "execute_result"
    }
   ],
   "source": [
    "wh.groupby('Month')['Time'].value_counts()"
   ]
  },
  {
   "cell_type": "markdown",
   "id": "b5d7af88",
   "metadata": {},
   "source": [
    "The mentors mostly took the class from 9.30am to 10.30am in April\n",
    "\n",
    "The mentors mostly took the class from 9.30am to 11.30am in May.\n",
    "\n",
    "The mentors mostly took the class from 2.30pm to 4.30pm in June"
   ]
  },
  {
   "cell_type": "code",
   "execution_count": 45,
   "id": "26330df8",
   "metadata": {},
   "outputs": [
    {
     "data": {
      "text/html": [
       "<div>\n",
       "<style scoped>\n",
       "    .dataframe tbody tr th:only-of-type {\n",
       "        vertical-align: middle;\n",
       "    }\n",
       "\n",
       "    .dataframe tbody tr th {\n",
       "        vertical-align: top;\n",
       "    }\n",
       "\n",
       "    .dataframe thead th {\n",
       "        text-align: right;\n",
       "    }\n",
       "</style>\n",
       "<table border=\"1\" class=\"dataframe\">\n",
       "  <thead>\n",
       "    <tr style=\"text-align: right;\">\n",
       "      <th></th>\n",
       "      <th>Time</th>\n",
       "    </tr>\n",
       "    <tr>\n",
       "      <th>Month</th>\n",
       "      <th></th>\n",
       "    </tr>\n",
       "  </thead>\n",
       "  <tbody>\n",
       "    <tr>\n",
       "      <th>4</th>\n",
       "      <td>25</td>\n",
       "    </tr>\n",
       "    <tr>\n",
       "      <th>5</th>\n",
       "      <td>29</td>\n",
       "    </tr>\n",
       "    <tr>\n",
       "      <th>6</th>\n",
       "      <td>37</td>\n",
       "    </tr>\n",
       "  </tbody>\n",
       "</table>\n",
       "</div>"
      ],
      "text/plain": [
       "       Time\n",
       "Month      \n",
       "4        25\n",
       "5        29\n",
       "6        37"
      ]
     },
     "execution_count": 45,
     "metadata": {},
     "output_type": "execute_result"
    }
   ],
   "source": [
    "wh.groupby('Month')[['Time']].count() #????"
   ]
  },
  {
   "cell_type": "code",
   "execution_count": 41,
   "id": "1afda42e",
   "metadata": {},
   "outputs": [
    {
     "data": {
      "text/html": [
       "<div>\n",
       "<style scoped>\n",
       "    .dataframe tbody tr th:only-of-type {\n",
       "        vertical-align: middle;\n",
       "    }\n",
       "\n",
       "    .dataframe tbody tr th {\n",
       "        vertical-align: top;\n",
       "    }\n",
       "\n",
       "    .dataframe thead th {\n",
       "        text-align: right;\n",
       "    }\n",
       "</style>\n",
       "<table border=\"1\" class=\"dataframe\">\n",
       "  <thead>\n",
       "    <tr style=\"text-align: right;\">\n",
       "      <th></th>\n",
       "      <th>Jikky</th>\n",
       "      <th>Kayis</th>\n",
       "      <th>Sinny</th>\n",
       "      <th>Criji</th>\n",
       "      <th>Johnan</th>\n",
       "      <th>Month</th>\n",
       "      <th>year</th>\n",
       "      <th>Day</th>\n",
       "    </tr>\n",
       "  </thead>\n",
       "  <tbody>\n",
       "    <tr>\n",
       "      <th>count</th>\n",
       "      <td>91.000000</td>\n",
       "      <td>91.000000</td>\n",
       "      <td>91.000000</td>\n",
       "      <td>91.000000</td>\n",
       "      <td>91.000000</td>\n",
       "      <td>91.000000</td>\n",
       "      <td>91.0</td>\n",
       "      <td>91.000000</td>\n",
       "    </tr>\n",
       "    <tr>\n",
       "      <th>mean</th>\n",
       "      <td>0.782418</td>\n",
       "      <td>0.325275</td>\n",
       "      <td>0.598901</td>\n",
       "      <td>0.472527</td>\n",
       "      <td>0.252747</td>\n",
       "      <td>5.131868</td>\n",
       "      <td>2022.0</td>\n",
       "      <td>17.967033</td>\n",
       "    </tr>\n",
       "    <tr>\n",
       "      <th>std</th>\n",
       "      <td>1.116701</td>\n",
       "      <td>0.888393</td>\n",
       "      <td>1.236527</td>\n",
       "      <td>1.184067</td>\n",
       "      <td>0.940962</td>\n",
       "      <td>0.819333</td>\n",
       "      <td>0.0</td>\n",
       "      <td>8.430699</td>\n",
       "    </tr>\n",
       "    <tr>\n",
       "      <th>min</th>\n",
       "      <td>0.000000</td>\n",
       "      <td>0.000000</td>\n",
       "      <td>0.000000</td>\n",
       "      <td>0.000000</td>\n",
       "      <td>0.000000</td>\n",
       "      <td>4.000000</td>\n",
       "      <td>2022.0</td>\n",
       "      <td>1.000000</td>\n",
       "    </tr>\n",
       "    <tr>\n",
       "      <th>25%</th>\n",
       "      <td>0.000000</td>\n",
       "      <td>0.000000</td>\n",
       "      <td>0.000000</td>\n",
       "      <td>0.000000</td>\n",
       "      <td>0.000000</td>\n",
       "      <td>4.000000</td>\n",
       "      <td>2022.0</td>\n",
       "      <td>11.500000</td>\n",
       "    </tr>\n",
       "    <tr>\n",
       "      <th>50%</th>\n",
       "      <td>0.000000</td>\n",
       "      <td>0.000000</td>\n",
       "      <td>0.000000</td>\n",
       "      <td>0.000000</td>\n",
       "      <td>0.000000</td>\n",
       "      <td>5.000000</td>\n",
       "      <td>2022.0</td>\n",
       "      <td>20.000000</td>\n",
       "    </tr>\n",
       "    <tr>\n",
       "      <th>75%</th>\n",
       "      <td>2.000000</td>\n",
       "      <td>0.000000</td>\n",
       "      <td>0.500000</td>\n",
       "      <td>0.000000</td>\n",
       "      <td>0.000000</td>\n",
       "      <td>6.000000</td>\n",
       "      <td>2022.0</td>\n",
       "      <td>24.500000</td>\n",
       "    </tr>\n",
       "    <tr>\n",
       "      <th>max</th>\n",
       "      <td>7.000000</td>\n",
       "      <td>7.000000</td>\n",
       "      <td>7.000000</td>\n",
       "      <td>7.000000</td>\n",
       "      <td>7.000000</td>\n",
       "      <td>6.000000</td>\n",
       "      <td>2022.0</td>\n",
       "      <td>31.000000</td>\n",
       "    </tr>\n",
       "  </tbody>\n",
       "</table>\n",
       "</div>"
      ],
      "text/plain": [
       "           Jikky      Kayis      Sinny      Criji     Johnan      Month  \\\n",
       "count  91.000000  91.000000  91.000000  91.000000  91.000000  91.000000   \n",
       "mean    0.782418   0.325275   0.598901   0.472527   0.252747   5.131868   \n",
       "std     1.116701   0.888393   1.236527   1.184067   0.940962   0.819333   \n",
       "min     0.000000   0.000000   0.000000   0.000000   0.000000   4.000000   \n",
       "25%     0.000000   0.000000   0.000000   0.000000   0.000000   4.000000   \n",
       "50%     0.000000   0.000000   0.000000   0.000000   0.000000   5.000000   \n",
       "75%     2.000000   0.000000   0.500000   0.000000   0.000000   6.000000   \n",
       "max     7.000000   7.000000   7.000000   7.000000   7.000000   6.000000   \n",
       "\n",
       "         year        Day  \n",
       "count    91.0  91.000000  \n",
       "mean   2022.0  17.967033  \n",
       "std       0.0   8.430699  \n",
       "min    2022.0   1.000000  \n",
       "25%    2022.0  11.500000  \n",
       "50%    2022.0  20.000000  \n",
       "75%    2022.0  24.500000  \n",
       "max    2022.0  31.000000  "
      ]
     },
     "execution_count": 41,
     "metadata": {},
     "output_type": "execute_result"
    }
   ],
   "source": [
    "\n",
    "wh.describe()"
   ]
  },
  {
   "cell_type": "raw",
   "id": "a1f4de10",
   "metadata": {},
   "source": [
    "#If the the payment is 100 for one hour , then how much salary"
   ]
  },
  {
   "cell_type": "code",
   "execution_count": 42,
   "id": "6920b461",
   "metadata": {},
   "outputs": [
    {
     "data": {
      "text/html": [
       "<div>\n",
       "<style scoped>\n",
       "    .dataframe tbody tr th:only-of-type {\n",
       "        vertical-align: middle;\n",
       "    }\n",
       "\n",
       "    .dataframe tbody tr th {\n",
       "        vertical-align: top;\n",
       "    }\n",
       "\n",
       "    .dataframe thead th {\n",
       "        text-align: right;\n",
       "    }\n",
       "</style>\n",
       "<table border=\"1\" class=\"dataframe\">\n",
       "  <thead>\n",
       "    <tr style=\"text-align: right;\">\n",
       "      <th></th>\n",
       "      <th>Date</th>\n",
       "      <th>Time</th>\n",
       "      <th>Jikky</th>\n",
       "      <th>Kayis</th>\n",
       "      <th>Sinny</th>\n",
       "      <th>Criji</th>\n",
       "      <th>Johnan</th>\n",
       "      <th>Mode of class</th>\n",
       "      <th>Month</th>\n",
       "      <th>year</th>\n",
       "      <th>Day</th>\n",
       "      <th>Salary_1_jikky</th>\n",
       "    </tr>\n",
       "  </thead>\n",
       "  <tbody>\n",
       "    <tr>\n",
       "      <th>0</th>\n",
       "      <td>2022-04-11</td>\n",
       "      <td>9:30 am- 10:30 am</td>\n",
       "      <td>1.0</td>\n",
       "      <td>1.0</td>\n",
       "      <td>0.0</td>\n",
       "      <td>0.0</td>\n",
       "      <td>0.0</td>\n",
       "      <td>Online</td>\n",
       "      <td>4</td>\n",
       "      <td>2022</td>\n",
       "      <td>11</td>\n",
       "      <td>100.0</td>\n",
       "    </tr>\n",
       "    <tr>\n",
       "      <th>1</th>\n",
       "      <td>2022-04-11</td>\n",
       "      <td>10:30 am- 11:30 am</td>\n",
       "      <td>1.0</td>\n",
       "      <td>1.0</td>\n",
       "      <td>0.0</td>\n",
       "      <td>0.0</td>\n",
       "      <td>0.0</td>\n",
       "      <td>Online</td>\n",
       "      <td>4</td>\n",
       "      <td>2022</td>\n",
       "      <td>11</td>\n",
       "      <td>100.0</td>\n",
       "    </tr>\n",
       "  </tbody>\n",
       "</table>\n",
       "</div>"
      ],
      "text/plain": [
       "        Date                Time  Jikky  Kayis  Sinny  Criji  Johnan  \\\n",
       "0 2022-04-11   9:30 am- 10:30 am    1.0    1.0    0.0    0.0     0.0   \n",
       "1 2022-04-11  10:30 am- 11:30 am    1.0    1.0    0.0    0.0     0.0   \n",
       "\n",
       "  Mode of class  Month  year  Day  Salary_1_jikky  \n",
       "0        Online      4  2022   11           100.0  \n",
       "1        Online      4  2022   11           100.0  "
      ]
     },
     "execution_count": 42,
     "metadata": {},
     "output_type": "execute_result"
    }
   ],
   "source": [
    "wh['Salary_1_jikky']=(wh['Jikky']*100)\n",
    "wh.head(2)\n",
    "     "
   ]
  },
  {
   "cell_type": "code",
   "execution_count": 43,
   "id": "3e8a3901",
   "metadata": {},
   "outputs": [
    {
     "data": {
      "text/html": [
       "<div>\n",
       "<style scoped>\n",
       "    .dataframe tbody tr th:only-of-type {\n",
       "        vertical-align: middle;\n",
       "    }\n",
       "\n",
       "    .dataframe tbody tr th {\n",
       "        vertical-align: top;\n",
       "    }\n",
       "\n",
       "    .dataframe thead th {\n",
       "        text-align: right;\n",
       "    }\n",
       "</style>\n",
       "<table border=\"1\" class=\"dataframe\">\n",
       "  <thead>\n",
       "    <tr style=\"text-align: right;\">\n",
       "      <th></th>\n",
       "      <th>Date</th>\n",
       "      <th>Time</th>\n",
       "      <th>Jikky</th>\n",
       "      <th>Kayis</th>\n",
       "      <th>Sinny</th>\n",
       "      <th>Criji</th>\n",
       "      <th>Johnan</th>\n",
       "      <th>Mode of class</th>\n",
       "      <th>Month</th>\n",
       "      <th>year</th>\n",
       "      <th>Day</th>\n",
       "      <th>Salary_1_jikky</th>\n",
       "      <th>Salary_1_Kayis</th>\n",
       "    </tr>\n",
       "  </thead>\n",
       "  <tbody>\n",
       "    <tr>\n",
       "      <th>0</th>\n",
       "      <td>2022-04-11</td>\n",
       "      <td>9:30 am- 10:30 am</td>\n",
       "      <td>1.0</td>\n",
       "      <td>1.0</td>\n",
       "      <td>0.0</td>\n",
       "      <td>0.0</td>\n",
       "      <td>0.0</td>\n",
       "      <td>Online</td>\n",
       "      <td>4</td>\n",
       "      <td>2022</td>\n",
       "      <td>11</td>\n",
       "      <td>100.0</td>\n",
       "      <td>100.0</td>\n",
       "    </tr>\n",
       "    <tr>\n",
       "      <th>1</th>\n",
       "      <td>2022-04-11</td>\n",
       "      <td>10:30 am- 11:30 am</td>\n",
       "      <td>1.0</td>\n",
       "      <td>1.0</td>\n",
       "      <td>0.0</td>\n",
       "      <td>0.0</td>\n",
       "      <td>0.0</td>\n",
       "      <td>Online</td>\n",
       "      <td>4</td>\n",
       "      <td>2022</td>\n",
       "      <td>11</td>\n",
       "      <td>100.0</td>\n",
       "      <td>100.0</td>\n",
       "    </tr>\n",
       "  </tbody>\n",
       "</table>\n",
       "</div>"
      ],
      "text/plain": [
       "        Date                Time  Jikky  Kayis  Sinny  Criji  Johnan  \\\n",
       "0 2022-04-11   9:30 am- 10:30 am    1.0    1.0    0.0    0.0     0.0   \n",
       "1 2022-04-11  10:30 am- 11:30 am    1.0    1.0    0.0    0.0     0.0   \n",
       "\n",
       "  Mode of class  Month  year  Day  Salary_1_jikky  Salary_1_Kayis  \n",
       "0        Online      4  2022   11           100.0           100.0  \n",
       "1        Online      4  2022   11           100.0           100.0  "
      ]
     },
     "execution_count": 43,
     "metadata": {},
     "output_type": "execute_result"
    }
   ],
   "source": [
    "wh['Salary_1_Kayis']=(wh['Kayis']*100)\n",
    "wh.head(2)"
   ]
  },
  {
   "cell_type": "code",
   "execution_count": 46,
   "id": "92e1e7d5",
   "metadata": {},
   "outputs": [
    {
     "data": {
      "text/html": [
       "<div>\n",
       "<style scoped>\n",
       "    .dataframe tbody tr th:only-of-type {\n",
       "        vertical-align: middle;\n",
       "    }\n",
       "\n",
       "    .dataframe tbody tr th {\n",
       "        vertical-align: top;\n",
       "    }\n",
       "\n",
       "    .dataframe thead th {\n",
       "        text-align: right;\n",
       "    }\n",
       "</style>\n",
       "<table border=\"1\" class=\"dataframe\">\n",
       "  <thead>\n",
       "    <tr style=\"text-align: right;\">\n",
       "      <th></th>\n",
       "      <th>Date</th>\n",
       "      <th>Time</th>\n",
       "      <th>Jikky</th>\n",
       "      <th>Kayis</th>\n",
       "      <th>Sinny</th>\n",
       "      <th>Criji</th>\n",
       "      <th>Johnan</th>\n",
       "      <th>Mode of class</th>\n",
       "      <th>Month</th>\n",
       "      <th>year</th>\n",
       "      <th>Day</th>\n",
       "      <th>Salary_1_jikky</th>\n",
       "      <th>Salary_1_Kayis</th>\n",
       "      <th>Salary_1_Sinny</th>\n",
       "    </tr>\n",
       "  </thead>\n",
       "  <tbody>\n",
       "    <tr>\n",
       "      <th>0</th>\n",
       "      <td>2022-04-11</td>\n",
       "      <td>9:30 am- 10:30 am</td>\n",
       "      <td>1.0</td>\n",
       "      <td>1.0</td>\n",
       "      <td>0.0</td>\n",
       "      <td>0.0</td>\n",
       "      <td>0.0</td>\n",
       "      <td>Online</td>\n",
       "      <td>4</td>\n",
       "      <td>2022</td>\n",
       "      <td>11</td>\n",
       "      <td>100.0</td>\n",
       "      <td>100.0</td>\n",
       "      <td>0.0</td>\n",
       "    </tr>\n",
       "    <tr>\n",
       "      <th>1</th>\n",
       "      <td>2022-04-11</td>\n",
       "      <td>10:30 am- 11:30 am</td>\n",
       "      <td>1.0</td>\n",
       "      <td>1.0</td>\n",
       "      <td>0.0</td>\n",
       "      <td>0.0</td>\n",
       "      <td>0.0</td>\n",
       "      <td>Online</td>\n",
       "      <td>4</td>\n",
       "      <td>2022</td>\n",
       "      <td>11</td>\n",
       "      <td>100.0</td>\n",
       "      <td>100.0</td>\n",
       "      <td>0.0</td>\n",
       "    </tr>\n",
       "  </tbody>\n",
       "</table>\n",
       "</div>"
      ],
      "text/plain": [
       "        Date                Time  Jikky  Kayis  Sinny  Criji  Johnan  \\\n",
       "0 2022-04-11   9:30 am- 10:30 am    1.0    1.0    0.0    0.0     0.0   \n",
       "1 2022-04-11  10:30 am- 11:30 am    1.0    1.0    0.0    0.0     0.0   \n",
       "\n",
       "  Mode of class  Month  year  Day  Salary_1_jikky  Salary_1_Kayis  \\\n",
       "0        Online      4  2022   11           100.0           100.0   \n",
       "1        Online      4  2022   11           100.0           100.0   \n",
       "\n",
       "   Salary_1_Sinny  \n",
       "0             0.0  \n",
       "1             0.0  "
      ]
     },
     "execution_count": 46,
     "metadata": {},
     "output_type": "execute_result"
    }
   ],
   "source": [
    "wh['Salary_1_Sinny']=(wh['Sinny']*100)\n",
    "wh.head(2)\n",
    "     "
   ]
  },
  {
   "cell_type": "code",
   "execution_count": 47,
   "id": "798f5d57",
   "metadata": {},
   "outputs": [
    {
     "data": {
      "text/html": [
       "<div>\n",
       "<style scoped>\n",
       "    .dataframe tbody tr th:only-of-type {\n",
       "        vertical-align: middle;\n",
       "    }\n",
       "\n",
       "    .dataframe tbody tr th {\n",
       "        vertical-align: top;\n",
       "    }\n",
       "\n",
       "    .dataframe thead th {\n",
       "        text-align: right;\n",
       "    }\n",
       "</style>\n",
       "<table border=\"1\" class=\"dataframe\">\n",
       "  <thead>\n",
       "    <tr style=\"text-align: right;\">\n",
       "      <th></th>\n",
       "      <th>Date</th>\n",
       "      <th>Time</th>\n",
       "      <th>Jikky</th>\n",
       "      <th>Kayis</th>\n",
       "      <th>Sinny</th>\n",
       "      <th>Criji</th>\n",
       "      <th>Johnan</th>\n",
       "      <th>Mode of class</th>\n",
       "      <th>Month</th>\n",
       "      <th>year</th>\n",
       "      <th>Day</th>\n",
       "      <th>Salary_1_jikky</th>\n",
       "      <th>Salary_1_Kayis</th>\n",
       "      <th>Salary_1_Sinny</th>\n",
       "      <th>Salary_1_Criji</th>\n",
       "    </tr>\n",
       "  </thead>\n",
       "  <tbody>\n",
       "    <tr>\n",
       "      <th>0</th>\n",
       "      <td>2022-04-11</td>\n",
       "      <td>9:30 am- 10:30 am</td>\n",
       "      <td>1.0</td>\n",
       "      <td>1.0</td>\n",
       "      <td>0.0</td>\n",
       "      <td>0.0</td>\n",
       "      <td>0.0</td>\n",
       "      <td>Online</td>\n",
       "      <td>4</td>\n",
       "      <td>2022</td>\n",
       "      <td>11</td>\n",
       "      <td>100.0</td>\n",
       "      <td>100.0</td>\n",
       "      <td>0.0</td>\n",
       "      <td>0.0</td>\n",
       "    </tr>\n",
       "    <tr>\n",
       "      <th>1</th>\n",
       "      <td>2022-04-11</td>\n",
       "      <td>10:30 am- 11:30 am</td>\n",
       "      <td>1.0</td>\n",
       "      <td>1.0</td>\n",
       "      <td>0.0</td>\n",
       "      <td>0.0</td>\n",
       "      <td>0.0</td>\n",
       "      <td>Online</td>\n",
       "      <td>4</td>\n",
       "      <td>2022</td>\n",
       "      <td>11</td>\n",
       "      <td>100.0</td>\n",
       "      <td>100.0</td>\n",
       "      <td>0.0</td>\n",
       "      <td>0.0</td>\n",
       "    </tr>\n",
       "  </tbody>\n",
       "</table>\n",
       "</div>"
      ],
      "text/plain": [
       "        Date                Time  Jikky  Kayis  Sinny  Criji  Johnan  \\\n",
       "0 2022-04-11   9:30 am- 10:30 am    1.0    1.0    0.0    0.0     0.0   \n",
       "1 2022-04-11  10:30 am- 11:30 am    1.0    1.0    0.0    0.0     0.0   \n",
       "\n",
       "  Mode of class  Month  year  Day  Salary_1_jikky  Salary_1_Kayis  \\\n",
       "0        Online      4  2022   11           100.0           100.0   \n",
       "1        Online      4  2022   11           100.0           100.0   \n",
       "\n",
       "   Salary_1_Sinny  Salary_1_Criji  \n",
       "0             0.0             0.0  \n",
       "1             0.0             0.0  "
      ]
     },
     "execution_count": 47,
     "metadata": {},
     "output_type": "execute_result"
    }
   ],
   "source": [
    "wh['Salary_1_Criji']=(wh['Criji']*100)\n",
    "wh.head(2)"
   ]
  },
  {
   "cell_type": "code",
   "execution_count": 48,
   "id": "bd406323",
   "metadata": {},
   "outputs": [
    {
     "data": {
      "text/html": [
       "<div>\n",
       "<style scoped>\n",
       "    .dataframe tbody tr th:only-of-type {\n",
       "        vertical-align: middle;\n",
       "    }\n",
       "\n",
       "    .dataframe tbody tr th {\n",
       "        vertical-align: top;\n",
       "    }\n",
       "\n",
       "    .dataframe thead th {\n",
       "        text-align: right;\n",
       "    }\n",
       "</style>\n",
       "<table border=\"1\" class=\"dataframe\">\n",
       "  <thead>\n",
       "    <tr style=\"text-align: right;\">\n",
       "      <th></th>\n",
       "      <th>Date</th>\n",
       "      <th>Time</th>\n",
       "      <th>Jikky</th>\n",
       "      <th>Kayis</th>\n",
       "      <th>Sinny</th>\n",
       "      <th>Criji</th>\n",
       "      <th>Johnan</th>\n",
       "      <th>Mode of class</th>\n",
       "      <th>Month</th>\n",
       "      <th>year</th>\n",
       "      <th>Day</th>\n",
       "      <th>Salary_1_jikky</th>\n",
       "      <th>Salary_1_Kayis</th>\n",
       "      <th>Salary_1_Sinny</th>\n",
       "      <th>Salary_1_Criji</th>\n",
       "      <th>Salary_1_Johnan</th>\n",
       "    </tr>\n",
       "  </thead>\n",
       "  <tbody>\n",
       "    <tr>\n",
       "      <th>0</th>\n",
       "      <td>2022-04-11</td>\n",
       "      <td>9:30 am- 10:30 am</td>\n",
       "      <td>1.0</td>\n",
       "      <td>1.0</td>\n",
       "      <td>0.0</td>\n",
       "      <td>0.0</td>\n",
       "      <td>0.0</td>\n",
       "      <td>Online</td>\n",
       "      <td>4</td>\n",
       "      <td>2022</td>\n",
       "      <td>11</td>\n",
       "      <td>100.0</td>\n",
       "      <td>100.0</td>\n",
       "      <td>0.0</td>\n",
       "      <td>0.0</td>\n",
       "      <td>0.0</td>\n",
       "    </tr>\n",
       "    <tr>\n",
       "      <th>1</th>\n",
       "      <td>2022-04-11</td>\n",
       "      <td>10:30 am- 11:30 am</td>\n",
       "      <td>1.0</td>\n",
       "      <td>1.0</td>\n",
       "      <td>0.0</td>\n",
       "      <td>0.0</td>\n",
       "      <td>0.0</td>\n",
       "      <td>Online</td>\n",
       "      <td>4</td>\n",
       "      <td>2022</td>\n",
       "      <td>11</td>\n",
       "      <td>100.0</td>\n",
       "      <td>100.0</td>\n",
       "      <td>0.0</td>\n",
       "      <td>0.0</td>\n",
       "      <td>0.0</td>\n",
       "    </tr>\n",
       "  </tbody>\n",
       "</table>\n",
       "</div>"
      ],
      "text/plain": [
       "        Date                Time  Jikky  Kayis  Sinny  Criji  Johnan  \\\n",
       "0 2022-04-11   9:30 am- 10:30 am    1.0    1.0    0.0    0.0     0.0   \n",
       "1 2022-04-11  10:30 am- 11:30 am    1.0    1.0    0.0    0.0     0.0   \n",
       "\n",
       "  Mode of class  Month  year  Day  Salary_1_jikky  Salary_1_Kayis  \\\n",
       "0        Online      4  2022   11           100.0           100.0   \n",
       "1        Online      4  2022   11           100.0           100.0   \n",
       "\n",
       "   Salary_1_Sinny  Salary_1_Criji  Salary_1_Johnan  \n",
       "0             0.0             0.0              0.0  \n",
       "1             0.0             0.0              0.0  "
      ]
     },
     "execution_count": 48,
     "metadata": {},
     "output_type": "execute_result"
    }
   ],
   "source": [
    "wh['Salary_1_Johnan']=(wh['Johnan']*100)\n",
    "wh.head(2)"
   ]
  },
  {
   "cell_type": "raw",
   "id": "607d5f67",
   "metadata": {},
   "source": [
    "#If the the payment for one hour is 150 means how much salary did they got in each month"
   ]
  },
  {
   "cell_type": "code",
   "execution_count": 49,
   "id": "c33f825c",
   "metadata": {},
   "outputs": [
    {
     "data": {
      "text/html": [
       "<div>\n",
       "<style scoped>\n",
       "    .dataframe tbody tr th:only-of-type {\n",
       "        vertical-align: middle;\n",
       "    }\n",
       "\n",
       "    .dataframe tbody tr th {\n",
       "        vertical-align: top;\n",
       "    }\n",
       "\n",
       "    .dataframe thead th {\n",
       "        text-align: right;\n",
       "    }\n",
       "</style>\n",
       "<table border=\"1\" class=\"dataframe\">\n",
       "  <thead>\n",
       "    <tr style=\"text-align: right;\">\n",
       "      <th></th>\n",
       "      <th>Date</th>\n",
       "      <th>Time</th>\n",
       "      <th>Jikky</th>\n",
       "      <th>Kayis</th>\n",
       "      <th>Sinny</th>\n",
       "      <th>Criji</th>\n",
       "      <th>Johnan</th>\n",
       "      <th>Mode of class</th>\n",
       "      <th>Month</th>\n",
       "      <th>year</th>\n",
       "      <th>Day</th>\n",
       "      <th>Salary_1_jikky</th>\n",
       "      <th>Salary_1_Kayis</th>\n",
       "      <th>Salary_1_Sinny</th>\n",
       "      <th>Salary_1_Criji</th>\n",
       "      <th>Salary_1_Johnan</th>\n",
       "      <th>Salary_2_jikky</th>\n",
       "    </tr>\n",
       "  </thead>\n",
       "  <tbody>\n",
       "    <tr>\n",
       "      <th>0</th>\n",
       "      <td>2022-04-11</td>\n",
       "      <td>9:30 am- 10:30 am</td>\n",
       "      <td>1.0</td>\n",
       "      <td>1.0</td>\n",
       "      <td>0.0</td>\n",
       "      <td>0.0</td>\n",
       "      <td>0.0</td>\n",
       "      <td>Online</td>\n",
       "      <td>4</td>\n",
       "      <td>2022</td>\n",
       "      <td>11</td>\n",
       "      <td>100.0</td>\n",
       "      <td>100.0</td>\n",
       "      <td>0.0</td>\n",
       "      <td>0.0</td>\n",
       "      <td>0.0</td>\n",
       "      <td>150.0</td>\n",
       "    </tr>\n",
       "    <tr>\n",
       "      <th>1</th>\n",
       "      <td>2022-04-11</td>\n",
       "      <td>10:30 am- 11:30 am</td>\n",
       "      <td>1.0</td>\n",
       "      <td>1.0</td>\n",
       "      <td>0.0</td>\n",
       "      <td>0.0</td>\n",
       "      <td>0.0</td>\n",
       "      <td>Online</td>\n",
       "      <td>4</td>\n",
       "      <td>2022</td>\n",
       "      <td>11</td>\n",
       "      <td>100.0</td>\n",
       "      <td>100.0</td>\n",
       "      <td>0.0</td>\n",
       "      <td>0.0</td>\n",
       "      <td>0.0</td>\n",
       "      <td>150.0</td>\n",
       "    </tr>\n",
       "  </tbody>\n",
       "</table>\n",
       "</div>"
      ],
      "text/plain": [
       "        Date                Time  Jikky  Kayis  Sinny  Criji  Johnan  \\\n",
       "0 2022-04-11   9:30 am- 10:30 am    1.0    1.0    0.0    0.0     0.0   \n",
       "1 2022-04-11  10:30 am- 11:30 am    1.0    1.0    0.0    0.0     0.0   \n",
       "\n",
       "  Mode of class  Month  year  Day  Salary_1_jikky  Salary_1_Kayis  \\\n",
       "0        Online      4  2022   11           100.0           100.0   \n",
       "1        Online      4  2022   11           100.0           100.0   \n",
       "\n",
       "   Salary_1_Sinny  Salary_1_Criji  Salary_1_Johnan  Salary_2_jikky  \n",
       "0             0.0             0.0              0.0           150.0  \n",
       "1             0.0             0.0              0.0           150.0  "
      ]
     },
     "execution_count": 49,
     "metadata": {},
     "output_type": "execute_result"
    }
   ],
   "source": [
    "wh['Salary_2_jikky']=(wh['Jikky']*150)\n",
    "wh.head(2)"
   ]
  },
  {
   "cell_type": "code",
   "execution_count": 50,
   "id": "965272d5",
   "metadata": {},
   "outputs": [
    {
     "data": {
      "text/html": [
       "<div>\n",
       "<style scoped>\n",
       "    .dataframe tbody tr th:only-of-type {\n",
       "        vertical-align: middle;\n",
       "    }\n",
       "\n",
       "    .dataframe tbody tr th {\n",
       "        vertical-align: top;\n",
       "    }\n",
       "\n",
       "    .dataframe thead th {\n",
       "        text-align: right;\n",
       "    }\n",
       "</style>\n",
       "<table border=\"1\" class=\"dataframe\">\n",
       "  <thead>\n",
       "    <tr style=\"text-align: right;\">\n",
       "      <th></th>\n",
       "      <th>Date</th>\n",
       "      <th>Time</th>\n",
       "      <th>Jikky</th>\n",
       "      <th>Kayis</th>\n",
       "      <th>Sinny</th>\n",
       "      <th>Criji</th>\n",
       "      <th>Johnan</th>\n",
       "      <th>Mode of class</th>\n",
       "      <th>Month</th>\n",
       "      <th>year</th>\n",
       "      <th>Day</th>\n",
       "      <th>Salary_1_jikky</th>\n",
       "      <th>Salary_1_Kayis</th>\n",
       "      <th>Salary_1_Sinny</th>\n",
       "      <th>Salary_1_Criji</th>\n",
       "      <th>Salary_1_Johnan</th>\n",
       "      <th>Salary_2_jikky</th>\n",
       "      <th>Salary_2_Kayis</th>\n",
       "    </tr>\n",
       "  </thead>\n",
       "  <tbody>\n",
       "    <tr>\n",
       "      <th>0</th>\n",
       "      <td>2022-04-11</td>\n",
       "      <td>9:30 am- 10:30 am</td>\n",
       "      <td>1.0</td>\n",
       "      <td>1.0</td>\n",
       "      <td>0.0</td>\n",
       "      <td>0.0</td>\n",
       "      <td>0.0</td>\n",
       "      <td>Online</td>\n",
       "      <td>4</td>\n",
       "      <td>2022</td>\n",
       "      <td>11</td>\n",
       "      <td>100.0</td>\n",
       "      <td>100.0</td>\n",
       "      <td>0.0</td>\n",
       "      <td>0.0</td>\n",
       "      <td>0.0</td>\n",
       "      <td>150.0</td>\n",
       "      <td>150.0</td>\n",
       "    </tr>\n",
       "    <tr>\n",
       "      <th>1</th>\n",
       "      <td>2022-04-11</td>\n",
       "      <td>10:30 am- 11:30 am</td>\n",
       "      <td>1.0</td>\n",
       "      <td>1.0</td>\n",
       "      <td>0.0</td>\n",
       "      <td>0.0</td>\n",
       "      <td>0.0</td>\n",
       "      <td>Online</td>\n",
       "      <td>4</td>\n",
       "      <td>2022</td>\n",
       "      <td>11</td>\n",
       "      <td>100.0</td>\n",
       "      <td>100.0</td>\n",
       "      <td>0.0</td>\n",
       "      <td>0.0</td>\n",
       "      <td>0.0</td>\n",
       "      <td>150.0</td>\n",
       "      <td>150.0</td>\n",
       "    </tr>\n",
       "  </tbody>\n",
       "</table>\n",
       "</div>"
      ],
      "text/plain": [
       "        Date                Time  Jikky  Kayis  Sinny  Criji  Johnan  \\\n",
       "0 2022-04-11   9:30 am- 10:30 am    1.0    1.0    0.0    0.0     0.0   \n",
       "1 2022-04-11  10:30 am- 11:30 am    1.0    1.0    0.0    0.0     0.0   \n",
       "\n",
       "  Mode of class  Month  year  Day  Salary_1_jikky  Salary_1_Kayis  \\\n",
       "0        Online      4  2022   11           100.0           100.0   \n",
       "1        Online      4  2022   11           100.0           100.0   \n",
       "\n",
       "   Salary_1_Sinny  Salary_1_Criji  Salary_1_Johnan  Salary_2_jikky  \\\n",
       "0             0.0             0.0              0.0           150.0   \n",
       "1             0.0             0.0              0.0           150.0   \n",
       "\n",
       "   Salary_2_Kayis  \n",
       "0           150.0  \n",
       "1           150.0  "
      ]
     },
     "execution_count": 50,
     "metadata": {},
     "output_type": "execute_result"
    }
   ],
   "source": [
    "wh['Salary_2_Kayis']=(wh['Kayis']*150)\n",
    "wh.head(2)"
   ]
  },
  {
   "cell_type": "code",
   "execution_count": 67,
   "id": "85c9e68c",
   "metadata": {},
   "outputs": [
    {
     "data": {
      "text/html": [
       "<div>\n",
       "<style scoped>\n",
       "    .dataframe tbody tr th:only-of-type {\n",
       "        vertical-align: middle;\n",
       "    }\n",
       "\n",
       "    .dataframe tbody tr th {\n",
       "        vertical-align: top;\n",
       "    }\n",
       "\n",
       "    .dataframe thead th {\n",
       "        text-align: right;\n",
       "    }\n",
       "</style>\n",
       "<table border=\"1\" class=\"dataframe\">\n",
       "  <thead>\n",
       "    <tr style=\"text-align: right;\">\n",
       "      <th></th>\n",
       "      <th>Date</th>\n",
       "      <th>Time</th>\n",
       "      <th>Jikky</th>\n",
       "      <th>Kayis</th>\n",
       "      <th>Sinny</th>\n",
       "      <th>Criji</th>\n",
       "      <th>Johnan</th>\n",
       "      <th>Mode of class</th>\n",
       "      <th>Month</th>\n",
       "      <th>year</th>\n",
       "      <th>...</th>\n",
       "      <th>Salary_1_jikky</th>\n",
       "      <th>Salary_1_Kayis</th>\n",
       "      <th>Salary_1_Sinny</th>\n",
       "      <th>Salary_1_Criji</th>\n",
       "      <th>Salary_1_Johnan</th>\n",
       "      <th>Salary_2_jikky</th>\n",
       "      <th>Salary_2_Kayis</th>\n",
       "      <th>Salary_2_Sinny</th>\n",
       "      <th>Salary_2_Johnan</th>\n",
       "      <th>Salary_2_Criji</th>\n",
       "    </tr>\n",
       "  </thead>\n",
       "  <tbody>\n",
       "    <tr>\n",
       "      <th>0</th>\n",
       "      <td>2022-04-11</td>\n",
       "      <td>9:30 am- 10:30 am</td>\n",
       "      <td>1.0</td>\n",
       "      <td>1.0</td>\n",
       "      <td>0.0</td>\n",
       "      <td>0.0</td>\n",
       "      <td>0.0</td>\n",
       "      <td>Online</td>\n",
       "      <td>4</td>\n",
       "      <td>2022</td>\n",
       "      <td>...</td>\n",
       "      <td>100.0</td>\n",
       "      <td>100.0</td>\n",
       "      <td>0.0</td>\n",
       "      <td>0.0</td>\n",
       "      <td>0.0</td>\n",
       "      <td>150.0</td>\n",
       "      <td>150.0</td>\n",
       "      <td>0.0</td>\n",
       "      <td>0.0</td>\n",
       "      <td>0.0</td>\n",
       "    </tr>\n",
       "    <tr>\n",
       "      <th>1</th>\n",
       "      <td>2022-04-11</td>\n",
       "      <td>10:30 am- 11:30 am</td>\n",
       "      <td>1.0</td>\n",
       "      <td>1.0</td>\n",
       "      <td>0.0</td>\n",
       "      <td>0.0</td>\n",
       "      <td>0.0</td>\n",
       "      <td>Online</td>\n",
       "      <td>4</td>\n",
       "      <td>2022</td>\n",
       "      <td>...</td>\n",
       "      <td>100.0</td>\n",
       "      <td>100.0</td>\n",
       "      <td>0.0</td>\n",
       "      <td>0.0</td>\n",
       "      <td>0.0</td>\n",
       "      <td>150.0</td>\n",
       "      <td>150.0</td>\n",
       "      <td>0.0</td>\n",
       "      <td>0.0</td>\n",
       "      <td>0.0</td>\n",
       "    </tr>\n",
       "  </tbody>\n",
       "</table>\n",
       "<p>2 rows × 21 columns</p>\n",
       "</div>"
      ],
      "text/plain": [
       "        Date                Time  Jikky  Kayis  Sinny  Criji  Johnan  \\\n",
       "0 2022-04-11   9:30 am- 10:30 am    1.0    1.0    0.0    0.0     0.0   \n",
       "1 2022-04-11  10:30 am- 11:30 am    1.0    1.0    0.0    0.0     0.0   \n",
       "\n",
       "  Mode of class  Month  year  ...  Salary_1_jikky  Salary_1_Kayis  \\\n",
       "0        Online      4  2022  ...           100.0           100.0   \n",
       "1        Online      4  2022  ...           100.0           100.0   \n",
       "\n",
       "   Salary_1_Sinny  Salary_1_Criji  Salary_1_Johnan  Salary_2_jikky  \\\n",
       "0             0.0             0.0              0.0           150.0   \n",
       "1             0.0             0.0              0.0           150.0   \n",
       "\n",
       "   Salary_2_Kayis  Salary_2_Sinny  Salary_2_Johnan  Salary_2_Criji  \n",
       "0           150.0             0.0              0.0             0.0  \n",
       "1           150.0             0.0              0.0             0.0  \n",
       "\n",
       "[2 rows x 21 columns]"
      ]
     },
     "execution_count": 67,
     "metadata": {},
     "output_type": "execute_result"
    }
   ],
   "source": [
    "wh['Salary_2_Criji']=(wh['Criji']*150)\n",
    "wh.head(2)"
   ]
  },
  {
   "cell_type": "code",
   "execution_count": 52,
   "id": "064d625e",
   "metadata": {},
   "outputs": [
    {
     "data": {
      "text/html": [
       "<div>\n",
       "<style scoped>\n",
       "    .dataframe tbody tr th:only-of-type {\n",
       "        vertical-align: middle;\n",
       "    }\n",
       "\n",
       "    .dataframe tbody tr th {\n",
       "        vertical-align: top;\n",
       "    }\n",
       "\n",
       "    .dataframe thead th {\n",
       "        text-align: right;\n",
       "    }\n",
       "</style>\n",
       "<table border=\"1\" class=\"dataframe\">\n",
       "  <thead>\n",
       "    <tr style=\"text-align: right;\">\n",
       "      <th></th>\n",
       "      <th>Date</th>\n",
       "      <th>Time</th>\n",
       "      <th>Jikky</th>\n",
       "      <th>Kayis</th>\n",
       "      <th>Sinny</th>\n",
       "      <th>Criji</th>\n",
       "      <th>Johnan</th>\n",
       "      <th>Mode of class</th>\n",
       "      <th>Month</th>\n",
       "      <th>year</th>\n",
       "      <th>Day</th>\n",
       "      <th>Salary_1_jikky</th>\n",
       "      <th>Salary_1_Kayis</th>\n",
       "      <th>Salary_1_Sinny</th>\n",
       "      <th>Salary_1_Criji</th>\n",
       "      <th>Salary_1_Johnan</th>\n",
       "      <th>Salary_2_jikky</th>\n",
       "      <th>Salary_2_Kayis</th>\n",
       "      <th>Salary_2_Sinny</th>\n",
       "      <th>Salary_2_Johnan</th>\n",
       "    </tr>\n",
       "  </thead>\n",
       "  <tbody>\n",
       "    <tr>\n",
       "      <th>0</th>\n",
       "      <td>2022-04-11</td>\n",
       "      <td>9:30 am- 10:30 am</td>\n",
       "      <td>1.0</td>\n",
       "      <td>1.0</td>\n",
       "      <td>0.0</td>\n",
       "      <td>0.0</td>\n",
       "      <td>0.0</td>\n",
       "      <td>Online</td>\n",
       "      <td>4</td>\n",
       "      <td>2022</td>\n",
       "      <td>11</td>\n",
       "      <td>100.0</td>\n",
       "      <td>100.0</td>\n",
       "      <td>0.0</td>\n",
       "      <td>0.0</td>\n",
       "      <td>0.0</td>\n",
       "      <td>150.0</td>\n",
       "      <td>150.0</td>\n",
       "      <td>0.0</td>\n",
       "      <td>0.0</td>\n",
       "    </tr>\n",
       "    <tr>\n",
       "      <th>1</th>\n",
       "      <td>2022-04-11</td>\n",
       "      <td>10:30 am- 11:30 am</td>\n",
       "      <td>1.0</td>\n",
       "      <td>1.0</td>\n",
       "      <td>0.0</td>\n",
       "      <td>0.0</td>\n",
       "      <td>0.0</td>\n",
       "      <td>Online</td>\n",
       "      <td>4</td>\n",
       "      <td>2022</td>\n",
       "      <td>11</td>\n",
       "      <td>100.0</td>\n",
       "      <td>100.0</td>\n",
       "      <td>0.0</td>\n",
       "      <td>0.0</td>\n",
       "      <td>0.0</td>\n",
       "      <td>150.0</td>\n",
       "      <td>150.0</td>\n",
       "      <td>0.0</td>\n",
       "      <td>0.0</td>\n",
       "    </tr>\n",
       "  </tbody>\n",
       "</table>\n",
       "</div>"
      ],
      "text/plain": [
       "        Date                Time  Jikky  Kayis  Sinny  Criji  Johnan  \\\n",
       "0 2022-04-11   9:30 am- 10:30 am    1.0    1.0    0.0    0.0     0.0   \n",
       "1 2022-04-11  10:30 am- 11:30 am    1.0    1.0    0.0    0.0     0.0   \n",
       "\n",
       "  Mode of class  Month  year  Day  Salary_1_jikky  Salary_1_Kayis  \\\n",
       "0        Online      4  2022   11           100.0           100.0   \n",
       "1        Online      4  2022   11           100.0           100.0   \n",
       "\n",
       "   Salary_1_Sinny  Salary_1_Criji  Salary_1_Johnan  Salary_2_jikky  \\\n",
       "0             0.0             0.0              0.0           150.0   \n",
       "1             0.0             0.0              0.0           150.0   \n",
       "\n",
       "   Salary_2_Kayis  Salary_2_Sinny  Salary_2_Johnan  \n",
       "0           150.0             0.0              0.0  \n",
       "1           150.0             0.0              0.0  "
      ]
     },
     "execution_count": 52,
     "metadata": {},
     "output_type": "execute_result"
    }
   ],
   "source": [
    "wh['Salary_2_Johnan']=(wh['Johnan']*150)\n",
    "wh.head(2)"
   ]
  },
  {
   "cell_type": "raw",
   "id": "46e0baeb",
   "metadata": {},
   "source": [
    "#Find by which mode of class, most of the time class has taken in month June"
   ]
  },
  {
   "cell_type": "code",
   "execution_count": 54,
   "id": "147c76d2",
   "metadata": {},
   "outputs": [
    {
     "data": {
      "text/html": [
       "<div>\n",
       "<style scoped>\n",
       "    .dataframe tbody tr th:only-of-type {\n",
       "        vertical-align: middle;\n",
       "    }\n",
       "\n",
       "    .dataframe tbody tr th {\n",
       "        vertical-align: top;\n",
       "    }\n",
       "\n",
       "    .dataframe thead th {\n",
       "        text-align: right;\n",
       "    }\n",
       "</style>\n",
       "<table border=\"1\" class=\"dataframe\">\n",
       "  <thead>\n",
       "    <tr style=\"text-align: right;\">\n",
       "      <th>Mode of class</th>\n",
       "      <th>Online</th>\n",
       "      <th>Physical</th>\n",
       "    </tr>\n",
       "    <tr>\n",
       "      <th>Month</th>\n",
       "      <th></th>\n",
       "      <th></th>\n",
       "    </tr>\n",
       "  </thead>\n",
       "  <tbody>\n",
       "    <tr>\n",
       "      <th>4</th>\n",
       "      <td>25</td>\n",
       "      <td>0</td>\n",
       "    </tr>\n",
       "    <tr>\n",
       "      <th>5</th>\n",
       "      <td>24</td>\n",
       "      <td>5</td>\n",
       "    </tr>\n",
       "    <tr>\n",
       "      <th>6</th>\n",
       "      <td>31</td>\n",
       "      <td>6</td>\n",
       "    </tr>\n",
       "  </tbody>\n",
       "</table>\n",
       "</div>"
      ],
      "text/plain": [
       "Mode of class  Online  Physical\n",
       "Month                          \n",
       "4                  25         0\n",
       "5                  24         5\n",
       "6                  31         6"
      ]
     },
     "execution_count": 54,
     "metadata": {},
     "output_type": "execute_result"
    }
   ],
   "source": [
    "tm=pd.crosstab(wh['Month'],wh['Mode of class'])\n",
    "tm"
   ]
  },
  {
   "cell_type": "markdown",
   "id": "dbe3a37e",
   "metadata": {},
   "source": [
    "online class is mostly taken in the month June"
   ]
  },
  {
   "cell_type": "code",
   "execution_count": 55,
   "id": "2539973f",
   "metadata": {},
   "outputs": [
    {
     "data": {
      "text/html": [
       "<div>\n",
       "<style scoped>\n",
       "    .dataframe tbody tr th:only-of-type {\n",
       "        vertical-align: middle;\n",
       "    }\n",
       "\n",
       "    .dataframe tbody tr th {\n",
       "        vertical-align: top;\n",
       "    }\n",
       "\n",
       "    .dataframe thead th {\n",
       "        text-align: right;\n",
       "    }\n",
       "</style>\n",
       "<table border=\"1\" class=\"dataframe\">\n",
       "  <thead>\n",
       "    <tr style=\"text-align: right;\">\n",
       "      <th>Mode of class</th>\n",
       "      <th>Online</th>\n",
       "      <th>Physical</th>\n",
       "    </tr>\n",
       "  </thead>\n",
       "  <tbody>\n",
       "    <tr>\n",
       "      <th>0</th>\n",
       "      <td>24</td>\n",
       "      <td>0</td>\n",
       "    </tr>\n",
       "    <tr>\n",
       "      <th>1</th>\n",
       "      <td>25</td>\n",
       "      <td>5</td>\n",
       "    </tr>\n",
       "    <tr>\n",
       "      <th>2</th>\n",
       "      <td>31</td>\n",
       "      <td>6</td>\n",
       "    </tr>\n",
       "  </tbody>\n",
       "</table>\n",
       "</div>"
      ],
      "text/plain": [
       "Mode of class  Online  Physical\n",
       "0                  24         0\n",
       "1                  25         5\n",
       "2                  31         6"
      ]
     },
     "execution_count": 55,
     "metadata": {},
     "output_type": "execute_result"
    }
   ],
   "source": [
    "tm.mode()"
   ]
  },
  {
   "cell_type": "code",
   "execution_count": 56,
   "id": "fd53cd77",
   "metadata": {},
   "outputs": [
    {
     "data": {
      "text/plain": [
       "Index(['Date', 'Time', 'Jikky', 'Kayis', 'Sinny', 'Criji', 'Johnan',\n",
       "       'Mode of class', 'Month', 'year', 'Day', 'Salary_1_jikky',\n",
       "       'Salary_1_Kayis', 'Salary_1_Sinny', 'Salary_1_Criji', 'Salary_1_Johnan',\n",
       "       'Salary_2_jikky', 'Salary_2_Kayis', 'Salary_2_Sinny',\n",
       "       'Salary_2_Johnan'],\n",
       "      dtype='object')"
      ]
     },
     "execution_count": 56,
     "metadata": {},
     "output_type": "execute_result"
    }
   ],
   "source": [
    "wh.columns"
   ]
  },
  {
   "cell_type": "raw",
   "id": "3c43235a",
   "metadata": {},
   "source": [
    "#Create a dataframe using the data you got with salary of each month of each mentors"
   ]
  },
  {
   "cell_type": "code",
   "execution_count": 58,
   "id": "661c377c",
   "metadata": {},
   "outputs": [
    {
     "data": {
      "text/plain": [
       "Salary_1_jikky     7120.0\n",
       "Salary_1_Kayis     2960.0\n",
       "Salary_1_Sinny     5450.0\n",
       "Salary_1_Criji     4300.0\n",
       "Salary_1_Johnan    2300.0\n",
       "dtype: float64"
      ]
     },
     "execution_count": 58,
     "metadata": {},
     "output_type": "execute_result"
    }
   ],
   "source": [
    "wh[['Salary_1_jikky', 'Salary_1_Kayis','Salary_1_Sinny','Salary_1_Criji','Salary_1_Johnan']].sum()"
   ]
  },
  {
   "cell_type": "code",
   "execution_count": 59,
   "id": "dc99c759",
   "metadata": {},
   "outputs": [
    {
     "data": {
      "text/html": [
       "<div>\n",
       "<style scoped>\n",
       "    .dataframe tbody tr th:only-of-type {\n",
       "        vertical-align: middle;\n",
       "    }\n",
       "\n",
       "    .dataframe tbody tr th {\n",
       "        vertical-align: top;\n",
       "    }\n",
       "\n",
       "    .dataframe thead th {\n",
       "        text-align: right;\n",
       "    }\n",
       "</style>\n",
       "<table border=\"1\" class=\"dataframe\">\n",
       "  <thead>\n",
       "    <tr style=\"text-align: right;\">\n",
       "      <th></th>\n",
       "      <th>Salary_1_jikky</th>\n",
       "      <th>Salary_1_Kayis</th>\n",
       "      <th>Salary_1_Sinny</th>\n",
       "      <th>Salary_1_Criji</th>\n",
       "      <th>Salary_1_Johnan</th>\n",
       "    </tr>\n",
       "    <tr>\n",
       "      <th>Month</th>\n",
       "      <th></th>\n",
       "      <th></th>\n",
       "      <th></th>\n",
       "      <th></th>\n",
       "      <th></th>\n",
       "    </tr>\n",
       "  </thead>\n",
       "  <tbody>\n",
       "    <tr>\n",
       "      <th>4</th>\n",
       "      <td>1150.0</td>\n",
       "      <td>1450.0</td>\n",
       "      <td>950.0</td>\n",
       "      <td>100.0</td>\n",
       "      <td>0.0</td>\n",
       "    </tr>\n",
       "    <tr>\n",
       "      <th>5</th>\n",
       "      <td>2270.0</td>\n",
       "      <td>1510.0</td>\n",
       "      <td>2200.0</td>\n",
       "      <td>2100.0</td>\n",
       "      <td>2300.0</td>\n",
       "    </tr>\n",
       "    <tr>\n",
       "      <th>6</th>\n",
       "      <td>3700.0</td>\n",
       "      <td>0.0</td>\n",
       "      <td>2300.0</td>\n",
       "      <td>2100.0</td>\n",
       "      <td>0.0</td>\n",
       "    </tr>\n",
       "  </tbody>\n",
       "</table>\n",
       "</div>"
      ],
      "text/plain": [
       "       Salary_1_jikky  Salary_1_Kayis  Salary_1_Sinny  Salary_1_Criji  \\\n",
       "Month                                                                   \n",
       "4              1150.0          1450.0           950.0           100.0   \n",
       "5              2270.0          1510.0          2200.0          2100.0   \n",
       "6              3700.0             0.0          2300.0          2100.0   \n",
       "\n",
       "       Salary_1_Johnan  \n",
       "Month                   \n",
       "4                  0.0  \n",
       "5               2300.0  \n",
       "6                  0.0  "
      ]
     },
     "execution_count": 59,
     "metadata": {},
     "output_type": "execute_result"
    }
   ],
   "source": [
    "salary1 = wh.groupby('Month')[['Salary_1_jikky', 'Salary_1_Kayis','Salary_1_Sinny','Salary_1_Criji','Salary_1_Johnan']].sum()\n",
    "salary1"
   ]
  },
  {
   "cell_type": "markdown",
   "id": "dad54e6c",
   "metadata": {},
   "source": [
    "if per hour they get 100 means;\n",
    "\n",
    "Kayis earned the most salary in April\n",
    "\n",
    "Johnan earned a higher salary in May\n",
    "\n",
    "Jikky earned the most salary in June"
   ]
  },
  {
   "cell_type": "code",
   "execution_count": 66,
   "id": "4b034b1c",
   "metadata": {},
   "outputs": [
    {
     "data": {
      "text/plain": [
       "Salary_2_jikky     10680.0\n",
       "Salary_2_Kayis      4440.0\n",
       "Salary_2_Sinny      8175.0\n",
       "Salary_2_Criji      6450.0\n",
       "Salary_2_Johnan     3450.0\n",
       "dtype: float64"
      ]
     },
     "execution_count": 66,
     "metadata": {},
     "output_type": "execute_result"
    }
   ],
   "source": [
    "#if they get 150 rs in per hour\n",
    "wh[['Salary_2_jikky','Salary_2_Kayis', 'Salary_2_Sinny','Salary_2_Criji', 'Salary_2_Johnan']].sum()\n",
    "\n"
   ]
  },
  {
   "cell_type": "code",
   "execution_count": 68,
   "id": "dcb6b89e",
   "metadata": {},
   "outputs": [
    {
     "data": {
      "text/html": [
       "<div>\n",
       "<style scoped>\n",
       "    .dataframe tbody tr th:only-of-type {\n",
       "        vertical-align: middle;\n",
       "    }\n",
       "\n",
       "    .dataframe tbody tr th {\n",
       "        vertical-align: top;\n",
       "    }\n",
       "\n",
       "    .dataframe thead th {\n",
       "        text-align: right;\n",
       "    }\n",
       "</style>\n",
       "<table border=\"1\" class=\"dataframe\">\n",
       "  <thead>\n",
       "    <tr style=\"text-align: right;\">\n",
       "      <th></th>\n",
       "      <th>Salary_2_jikky</th>\n",
       "      <th>Salary_2_Kayis</th>\n",
       "      <th>Salary_2_Sinny</th>\n",
       "      <th>Salary_2_Criji</th>\n",
       "      <th>Salary_2_Johnan</th>\n",
       "    </tr>\n",
       "    <tr>\n",
       "      <th>Month</th>\n",
       "      <th></th>\n",
       "      <th></th>\n",
       "      <th></th>\n",
       "      <th></th>\n",
       "      <th></th>\n",
       "    </tr>\n",
       "  </thead>\n",
       "  <tbody>\n",
       "    <tr>\n",
       "      <th>4</th>\n",
       "      <td>1725.0</td>\n",
       "      <td>2175.0</td>\n",
       "      <td>1425.0</td>\n",
       "      <td>150.0</td>\n",
       "      <td>0.0</td>\n",
       "    </tr>\n",
       "    <tr>\n",
       "      <th>5</th>\n",
       "      <td>3405.0</td>\n",
       "      <td>2265.0</td>\n",
       "      <td>3300.0</td>\n",
       "      <td>3150.0</td>\n",
       "      <td>3450.0</td>\n",
       "    </tr>\n",
       "    <tr>\n",
       "      <th>6</th>\n",
       "      <td>5550.0</td>\n",
       "      <td>0.0</td>\n",
       "      <td>3450.0</td>\n",
       "      <td>3150.0</td>\n",
       "      <td>0.0</td>\n",
       "    </tr>\n",
       "  </tbody>\n",
       "</table>\n",
       "</div>"
      ],
      "text/plain": [
       "       Salary_2_jikky  Salary_2_Kayis  Salary_2_Sinny  Salary_2_Criji  \\\n",
       "Month                                                                   \n",
       "4              1725.0          2175.0          1425.0           150.0   \n",
       "5              3405.0          2265.0          3300.0          3150.0   \n",
       "6              5550.0             0.0          3450.0          3150.0   \n",
       "\n",
       "       Salary_2_Johnan  \n",
       "Month                   \n",
       "4                  0.0  \n",
       "5               3450.0  \n",
       "6                  0.0  "
      ]
     },
     "execution_count": 68,
     "metadata": {},
     "output_type": "execute_result"
    }
   ],
   "source": [
    "salary2 = wh.groupby('Month')[['Salary_2_jikky','Salary_2_Kayis', 'Salary_2_Sinny','Salary_2_Criji', 'Salary_2_Johnan']].sum()\n",
    "salary2"
   ]
  },
  {
   "cell_type": "markdown",
   "id": "90e8ba41",
   "metadata": {},
   "source": [
    "if they earn 150 in per hour means;\n",
    "\n",
    "Kayis earned the most salary in April\n",
    "\n",
    "Johnan earned a higher salary in May\n",
    "\n",
    "Jikky earned the most salary in June"
   ]
  },
  {
   "cell_type": "markdown",
   "id": "82fe421e",
   "metadata": {},
   "source": [
    "Conclusion"
   ]
  },
  {
   "cell_type": "markdown",
   "id": "7e23a20b",
   "metadata": {},
   "source": [
    "91 rows and 8 columns contained in this table.\n",
    "\n",
    "Fill null is cleaned that it replaced 0 from nan\n",
    "\n",
    "The date split into month, day and year as they added in each column.\n",
    "\n",
    "Jikky took more class at the total of 71.2\n",
    "\n",
    "The mentors have taken online class than physical.\n",
    "\n",
    "Jikky mostly took the online class\n",
    "\n",
    "Sinny mostly took the physical class\n",
    "\n",
    "Kayis has took more hours of working in April, Kayis earned the most salary in April\n",
    "\n",
    "Johnan has took more hours of working in May, Johnan earned a higher salary in May\n",
    "\n",
    "Jikky has mostly took more hours of working in June, Jikky earned the most salary in June\n",
    "\n",
    "Jikky is working more time.\n",
    "\n",
    "More physical classes had taken in June.\n",
    "\n",
    "The mentors mostly took the class from 9.30am to 10.30am in April\n",
    "\n",
    "The mentors mostly took the class from 9.30am to 11.30am in May.\n",
    "\n",
    "The mentors mostly took the class from 2.30pm to 4.30pm in June"
   ]
  },
  {
   "cell_type": "code",
   "execution_count": null,
   "id": "02d09ee2",
   "metadata": {},
   "outputs": [],
   "source": []
  }
 ],
 "metadata": {
  "kernelspec": {
   "display_name": "Python 3 (ipykernel)",
   "language": "python",
   "name": "python3"
  },
  "language_info": {
   "codemirror_mode": {
    "name": "ipython",
    "version": 3
   },
   "file_extension": ".py",
   "mimetype": "text/x-python",
   "name": "python",
   "nbconvert_exporter": "python",
   "pygments_lexer": "ipython3",
   "version": "3.10.9"
  }
 },
 "nbformat": 4,
 "nbformat_minor": 5
}
